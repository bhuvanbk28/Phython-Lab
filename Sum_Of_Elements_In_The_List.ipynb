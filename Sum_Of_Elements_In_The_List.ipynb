{
  "nbformat": 4,
  "nbformat_minor": 0,
  "metadata": {
    "colab": {
      "provenance": []
    },
    "kernelspec": {
      "name": "python3",
      "display_name": "Python 3"
    },
    "language_info": {
      "name": "python"
    }
  },
  "cells": [
    {
      "cell_type": "code",
      "execution_count": null,
      "metadata": {
        "id": "QAE5oiiVS-R1"
      },
      "outputs": [],
      "source": [
        "n=int(input(\"Enter a number: \"))\n",
        "list1=[]\n",
        "for i in range(0,n):\n",
        "  vales=int(input(\"Enter a number: \"))\n",
        "  list1.append(vales)\n",
        "print(sum(list1))"
      ]
    }
  ]
}