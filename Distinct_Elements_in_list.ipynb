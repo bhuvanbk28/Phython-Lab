{
  "nbformat": 4,
  "nbformat_minor": 0,
  "metadata": {
    "colab": {
      "provenance": []
    },
    "kernelspec": {
      "name": "python3",
      "display_name": "Python 3"
    },
    "language_info": {
      "name": "python"
    }
  },
  "cells": [
    {
      "cell_type": "code",
      "execution_count": 1,
      "metadata": {
        "colab": {
          "base_uri": "https://localhost:8080/"
        },
        "id": "wN8yzXVBaZnF",
        "outputId": "7936e06b-7e52-477e-9691-fb3047a7e16c"
      },
      "outputs": [
        {
          "output_type": "stream",
          "name": "stdout",
          "text": [
            "Enter the number of elements in the list: 5\n",
            "Enter element : 2\n",
            "Enter element : 3\n",
            "Enter element : 3\n",
            "Enter element : 780\n",
            "Enter element : 90\n",
            "The number of distinct elements in the list is: 4\n"
          ]
        }
      ],
      "source": [
        "n = int(input(\"Enter the number of elements in the list: \"))\n",
        "my_list = []\n",
        "for i in range(n):\n",
        "  element = int(input(\"Enter element : \"))\n",
        "  my_list.append(element)\n",
        "\n",
        "distinct_elements = []\n",
        "for element in my_list:\n",
        "  if element not in distinct_elements:\n",
        "    distinct_elements.append(element)\n",
        "\n",
        "num_distinct_elements = len(distinct_elements)\n",
        "print(\"The number of distinct elements in the list is:\",num_distinct_elements)"
      ]
    },
    {
      "cell_type": "code",
      "source": [],
      "metadata": {
        "id": "XoCKQXRoaiU9"
      },
      "execution_count": null,
      "outputs": []
    }
  ]
}