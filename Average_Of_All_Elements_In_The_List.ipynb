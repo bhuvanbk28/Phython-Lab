{
  "nbformat": 4,
  "nbformat_minor": 0,
  "metadata": {
    "colab": {
      "provenance": []
    },
    "kernelspec": {
      "name": "python3",
      "display_name": "Python 3"
    },
    "language_info": {
      "name": "python"
    }
  },
  "cells": [
    {
      "cell_type": "code",
      "execution_count": 1,
      "metadata": {
        "colab": {
          "base_uri": "https://localhost:8080/"
        },
        "id": "r36m6TCET8Md",
        "outputId": "cdcec3d5-de13-4847-c05d-79c1a158d6c9"
      },
      "outputs": [
        {
          "output_type": "stream",
          "name": "stdout",
          "text": [
            "Enter the first list element: 5\n",
            "Enter the element: 12 10 26 6 67\n",
            "24.2\n"
          ]
        }
      ],
      "source": [
        "a=int(input(\"Enter the first list element: \"))\n",
        "b=list(map(int,input(\"Enter the element: \").split()))\n",
        "x=sum(b)/a\n",
        "print(x)"
      ]
    }
  ]
}