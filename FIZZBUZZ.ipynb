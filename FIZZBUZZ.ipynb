{
  "nbformat": 4,
  "nbformat_minor": 0,
  "metadata": {
    "colab": {
      "provenance": []
    },
    "kernelspec": {
      "name": "python3",
      "display_name": "Python 3"
    },
    "language_info": {
      "name": "python"
    }
  },
  "cells": [
    {
      "cell_type": "code",
      "execution_count": 2,
      "metadata": {
        "colab": {
          "base_uri": "https://localhost:8080/"
        },
        "id": "pGZIf9sIkZ8f",
        "outputId": "bf25ce21-fda4-4bac-be97-7f59022f7aca"
      },
      "outputs": [
        {
          "output_type": "stream",
          "name": "stdout",
          "text": [
            "Enter a number: 17\n",
            "1\n",
            "2\n",
            "fizz\n",
            "4\n",
            "buzz\n",
            "fizz\n",
            "7\n",
            "8\n",
            "fizz\n",
            "buzz\n",
            "11\n",
            "fizz\n",
            "13\n",
            "14\n",
            "fizzbuzz\n",
            "16\n"
          ]
        }
      ],
      "source": [
        "n=int(input(\"Enter a number: \"))\n",
        "for i in range(1,n):\n",
        "  if(i%3==0 and i%5==0):\n",
        "    print(\"fizzbuzz\")\n",
        "  elif(i%5==0):\n",
        "    print(\"buzz\")\n",
        "  elif(i%3==0 ):\n",
        "    print(\"fizz\")\n",
        "  else:\n",
        "    print(i)"
      ]
    }
  ]
}