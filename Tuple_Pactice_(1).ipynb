{
  "nbformat": 4,
  "nbformat_minor": 0,
  "metadata": {
    "colab": {
      "provenance": []
    },
    "kernelspec": {
      "name": "python3",
      "display_name": "Python 3"
    },
    "language_info": {
      "name": "python"
    }
  },
  "cells": [
    {
      "cell_type": "code",
      "execution_count": 1,
      "metadata": {
        "colab": {
          "base_uri": "https://localhost:8080/"
        },
        "id": "AAiIrSb14BAW",
        "outputId": "95dec157-8292-46ef-95bc-716c9d18712a"
      },
      "outputs": [
        {
          "output_type": "stream",
          "name": "stdout",
          "text": [
            "()\n"
          ]
        }
      ],
      "source": [
        "empty_tuple=()\n",
        "print(empty_tuple)"
      ]
    },
    {
      "cell_type": "code",
      "source": [
        "value_tuple=26,45,32\n",
        "print(value_tuple)\n"
      ],
      "metadata": {
        "colab": {
          "base_uri": "https://localhost:8080/"
        },
        "id": "Hl638sHa4vAg",
        "outputId": "54fc810a-2f41-4087-8620-da9c16fbab7c"
      },
      "execution_count": 2,
      "outputs": [
        {
          "output_type": "stream",
          "name": "stdout",
          "text": [
            "(26, 45, 32)\n"
          ]
        }
      ]
    },
    {
      "cell_type": "code",
      "source": [
        "value_tuple=26,45,'hello'\n",
        "print(value_tuple)"
      ],
      "metadata": {
        "colab": {
          "base_uri": "https://localhost:8080/"
        },
        "id": "-29V7zsc4xsi",
        "outputId": "57a83def-5099-4929-9fbb-9a6843e92813"
      },
      "execution_count": 3,
      "outputs": [
        {
          "output_type": "stream",
          "name": "stdout",
          "text": [
            "(26, 45, 'hello')\n"
          ]
        }
      ]
    },
    {
      "cell_type": "code",
      "source": [
        "Tuple=('hello')\n",
        "print(Tuple)\n",
        "type(Tuple)"
      ],
      "metadata": {
        "colab": {
          "base_uri": "https://localhost:8080/"
        },
        "id": "ax22ye1M4_8q",
        "outputId": "6227c85a-4a65-4cfb-df8b-1783d03199bf"
      },
      "execution_count": 5,
      "outputs": [
        {
          "output_type": "stream",
          "name": "stdout",
          "text": [
            "hello\n"
          ]
        },
        {
          "output_type": "execute_result",
          "data": {
            "text/plain": [
              "str"
            ]
          },
          "metadata": {},
          "execution_count": 5
        }
      ]
    },
    {
      "cell_type": "code",
      "source": [
        "Tuple=('hello',)\n",
        "print(Tuple)\n",
        "type(Tuple)"
      ],
      "metadata": {
        "colab": {
          "base_uri": "https://localhost:8080/"
        },
        "id": "hfZ11QCG5oaY",
        "outputId": "7e78e06d-5a0c-4095-824b-c070b4694b2e"
      },
      "execution_count": 6,
      "outputs": [
        {
          "output_type": "stream",
          "name": "stdout",
          "text": [
            "('hello',)\n"
          ]
        },
        {
          "output_type": "execute_result",
          "data": {
            "text/plain": [
              "tuple"
            ]
          },
          "metadata": {},
          "execution_count": 6
        }
      ]
    },
    {
      "cell_type": "code",
      "source": [
        "value_tuple=26,45,'hello'\n",
        "value_tuple[0]=10\n",
        "print(value_tuple)"
      ],
      "metadata": {
        "colab": {
          "base_uri": "https://localhost:8080/",
          "height": 183
        },
        "id": "zEzhTK3X5wcw",
        "outputId": "2584fc5c-6d32-409d-d50c-8935b31546c9"
      },
      "execution_count": 7,
      "outputs": [
        {
          "output_type": "error",
          "ename": "TypeError",
          "evalue": "'tuple' object does not support item assignment",
          "traceback": [
            "\u001b[0;31m---------------------------------------------------------------------------\u001b[0m",
            "\u001b[0;31mTypeError\u001b[0m                                 Traceback (most recent call last)",
            "\u001b[0;32m<ipython-input-7-f154d544bd00>\u001b[0m in \u001b[0;36m<cell line: 2>\u001b[0;34m()\u001b[0m\n\u001b[1;32m      1\u001b[0m \u001b[0mvalue_tuple\u001b[0m\u001b[0;34m=\u001b[0m\u001b[0;36m26\u001b[0m\u001b[0;34m,\u001b[0m\u001b[0;36m45\u001b[0m\u001b[0;34m,\u001b[0m\u001b[0;34m'hello'\u001b[0m\u001b[0;34m\u001b[0m\u001b[0;34m\u001b[0m\u001b[0m\n\u001b[0;32m----> 2\u001b[0;31m \u001b[0mvalue_tuple\u001b[0m\u001b[0;34m[\u001b[0m\u001b[0;36m0\u001b[0m\u001b[0;34m]\u001b[0m\u001b[0;34m=\u001b[0m\u001b[0;36m10\u001b[0m\u001b[0;34m\u001b[0m\u001b[0;34m\u001b[0m\u001b[0m\n\u001b[0m\u001b[1;32m      3\u001b[0m \u001b[0mprint\u001b[0m\u001b[0;34m(\u001b[0m\u001b[0mvalue_tuple\u001b[0m\u001b[0;34m)\u001b[0m\u001b[0;34m\u001b[0m\u001b[0;34m\u001b[0m\u001b[0m\n",
            "\u001b[0;31mTypeError\u001b[0m: 'tuple' object does not support item assignment"
          ]
        }
      ]
    },
    {
      "cell_type": "code",
      "source": [
        "value_tuple=(26,45,'hello',7.5,'z',5,6.9)\n",
        "print(value_tuple[::-1])"
      ],
      "metadata": {
        "colab": {
          "base_uri": "https://localhost:8080/"
        },
        "id": "h05BYxaX56oR",
        "outputId": "dc7accb7-ebf1-491e-c44d-0ac7452ebf4d"
      },
      "execution_count": 8,
      "outputs": [
        {
          "output_type": "stream",
          "name": "stdout",
          "text": [
            "(6.9, 5, 'z', 7.5, 'hello', 45, 26)\n"
          ]
        }
      ]
    },
    {
      "cell_type": "code",
      "source": [
        "value_tuple=(26,45,'hello',7.5,'z',5,6.9)\n",
        "print(value_tuple[::-2])"
      ],
      "metadata": {
        "colab": {
          "base_uri": "https://localhost:8080/"
        },
        "id": "aQfBXrs684nt",
        "outputId": "5c5552b4-90a7-4b89-90db-a7adf8aada83"
      },
      "execution_count": 9,
      "outputs": [
        {
          "output_type": "stream",
          "name": "stdout",
          "text": [
            "(6.9, 'z', 'hello', 26)\n"
          ]
        }
      ]
    },
    {
      "cell_type": "code",
      "source": [
        "value_tuple=(26,45,'hello',7.5,'z',5,6.9)\n",
        "print(value_tuple[::-3])"
      ],
      "metadata": {
        "colab": {
          "base_uri": "https://localhost:8080/"
        },
        "id": "73kwTt7w8_J_",
        "outputId": "034d3c3d-c96c-4f33-fbe6-c6733d2f014b"
      },
      "execution_count": 10,
      "outputs": [
        {
          "output_type": "stream",
          "name": "stdout",
          "text": [
            "(6.9, 7.5, 26)\n"
          ]
        }
      ]
    },
    {
      "cell_type": "code",
      "source": [
        "value_tuple=(26,45,'hello',7.5,'z',5,6.9)\n",
        "print(value_tuple[-3::])"
      ],
      "metadata": {
        "colab": {
          "base_uri": "https://localhost:8080/"
        },
        "id": "TWO5nSQD9F9w",
        "outputId": "5967bf65-dc99-44da-acd3-81b4fc15adf1"
      },
      "execution_count": 11,
      "outputs": [
        {
          "output_type": "stream",
          "name": "stdout",
          "text": [
            "('z', 5, 6.9)\n"
          ]
        }
      ]
    },
    {
      "cell_type": "code",
      "source": [
        "value_tuple=(26,45,'hello',7.5,'z',5,6.9)\n",
        "print(value_tuple[2::])"
      ],
      "metadata": {
        "colab": {
          "base_uri": "https://localhost:8080/"
        },
        "id": "CDdsrGAe9KMM",
        "outputId": "a076c40b-06e1-482a-d733-a17b502699a7"
      },
      "execution_count": 12,
      "outputs": [
        {
          "output_type": "stream",
          "name": "stdout",
          "text": [
            "('hello', 7.5, 'z', 5, 6.9)\n"
          ]
        }
      ]
    },
    {
      "cell_type": "code",
      "source": [
        "value_tuple=(26,45,'hello',7.5,'z',5,6.9)\n",
        "print(value_tuple[::2])"
      ],
      "metadata": {
        "colab": {
          "base_uri": "https://localhost:8080/"
        },
        "id": "3D5sytAR9POM",
        "outputId": "62c0cfd7-bd56-4a8f-c937-3d9415c20a4e"
      },
      "execution_count": 13,
      "outputs": [
        {
          "output_type": "stream",
          "name": "stdout",
          "text": [
            "(26, 'hello', 'z', 6.9)\n"
          ]
        }
      ]
    },
    {
      "cell_type": "code",
      "source": [
        "value_tuple=(26,45,'hello',7.5,'z',5,6.9)\n",
        "print(value_tuple[1::1])"
      ],
      "metadata": {
        "colab": {
          "base_uri": "https://localhost:8080/"
        },
        "id": "XPcMUFO_9SyO",
        "outputId": "dd940a44-dc63-4c6c-c043-cb8a4328d817"
      },
      "execution_count": 14,
      "outputs": [
        {
          "output_type": "stream",
          "name": "stdout",
          "text": [
            "(45, 'hello', 7.5, 'z', 5, 6.9)\n"
          ]
        }
      ]
    },
    {
      "cell_type": "code",
      "source": [
        "value_tuple=(26,45,'hello',7.5,'z',5,6.9)\n",
        "del(value_tuple)\n",
        "print(value_tuple)"
      ],
      "metadata": {
        "colab": {
          "base_uri": "https://localhost:8080/",
          "height": 183
        },
        "id": "brGwWdBz-Zly",
        "outputId": "4053299d-524e-4228-a1f1-8f9389d29c71"
      },
      "execution_count": 15,
      "outputs": [
        {
          "output_type": "error",
          "ename": "NameError",
          "evalue": "name 'value_tuple' is not defined",
          "traceback": [
            "\u001b[0;31m---------------------------------------------------------------------------\u001b[0m",
            "\u001b[0;31mNameError\u001b[0m                                 Traceback (most recent call last)",
            "\u001b[0;32m<ipython-input-15-27703dfa5473>\u001b[0m in \u001b[0;36m<cell line: 3>\u001b[0;34m()\u001b[0m\n\u001b[1;32m      1\u001b[0m \u001b[0mvalue_tuple\u001b[0m\u001b[0;34m=\u001b[0m\u001b[0;34m(\u001b[0m\u001b[0;36m26\u001b[0m\u001b[0;34m,\u001b[0m\u001b[0;36m45\u001b[0m\u001b[0;34m,\u001b[0m\u001b[0;34m'hello'\u001b[0m\u001b[0;34m,\u001b[0m\u001b[0;36m7.5\u001b[0m\u001b[0;34m,\u001b[0m\u001b[0;34m'z'\u001b[0m\u001b[0;34m,\u001b[0m\u001b[0;36m5\u001b[0m\u001b[0;34m,\u001b[0m\u001b[0;36m6.9\u001b[0m\u001b[0;34m)\u001b[0m\u001b[0;34m\u001b[0m\u001b[0;34m\u001b[0m\u001b[0m\n\u001b[1;32m      2\u001b[0m \u001b[0;32mdel\u001b[0m\u001b[0;34m(\u001b[0m\u001b[0mvalue_tuple\u001b[0m\u001b[0;34m)\u001b[0m\u001b[0;34m\u001b[0m\u001b[0;34m\u001b[0m\u001b[0m\n\u001b[0;32m----> 3\u001b[0;31m \u001b[0mprint\u001b[0m\u001b[0;34m(\u001b[0m\u001b[0mvalue_tuple\u001b[0m\u001b[0;34m)\u001b[0m\u001b[0;34m\u001b[0m\u001b[0;34m\u001b[0m\u001b[0m\n\u001b[0m",
            "\u001b[0;31mNameError\u001b[0m: name 'value_tuple' is not defined"
          ]
        }
      ]
    },
    {
      "cell_type": "code",
      "source": [
        "value_tuple=(26,45,'hello',7.5,'z',5,6.9)\n",
        "print(value_tuple[1::1])"
      ],
      "metadata": {
        "id": "SMyY3ly3-uSO"
      },
      "execution_count": null,
      "outputs": []
    },
    {
      "cell_type": "code",
      "source": [
        "value1_tuple=(26,45,'hello',7.5,'z',5,6.9)\n",
        "value2_tuple=(26,45,'hello',7.5,'z',5,6.9)\n",
        "value3_tuple=value1_tuple+value2_tuple\n",
        "print(value3_tuple)"
      ],
      "metadata": {
        "colab": {
          "base_uri": "https://localhost:8080/"
        },
        "id": "iTnXI41j-1rb",
        "outputId": "794b29ae-549a-4468-e023-d428f2fe8b3b"
      },
      "execution_count": 17,
      "outputs": [
        {
          "output_type": "stream",
          "name": "stdout",
          "text": [
            "(26, 45, 'hello', 7.5, 'z', 5, 6.9, 26, 45, 'hello', 7.5, 'z', 5, 6.9)\n"
          ]
        }
      ]
    },
    {
      "cell_type": "code",
      "source": [
        "value1_tuple=(26,45,'hello',7.5,'z',5,6.9)\n",
        "value2_tuple=(26,45,'hello',7.5,'z',5,6.9)\n",
        "value3_tuple=value1_tuple,value2_tuple\n",
        "print(value3_tuple)"
      ],
      "metadata": {
        "colab": {
          "base_uri": "https://localhost:8080/"
        },
        "id": "enHqbzLt_KvA",
        "outputId": "301a956b-a473-43b7-8264-9e69053c3413"
      },
      "execution_count": 18,
      "outputs": [
        {
          "output_type": "stream",
          "name": "stdout",
          "text": [
            "((26, 45, 'hello', 7.5, 'z', 5, 6.9), (26, 45, 'hello', 7.5, 'z', 5, 6.9))\n"
          ]
        }
      ]
    },
    {
      "cell_type": "code",
      "source": [
        "value_tuple=(26,45,'hello',7.5,'z',5,6.9)*2\n",
        "print(value_tuple)"
      ],
      "metadata": {
        "colab": {
          "base_uri": "https://localhost:8080/"
        },
        "id": "iIYfBilz_YIs",
        "outputId": "49118d47-299d-42b6-a83e-e76083bd6aaf"
      },
      "execution_count": 19,
      "outputs": [
        {
          "output_type": "stream",
          "name": "stdout",
          "text": [
            "(26, 45, 'hello', 7.5, 'z', 5, 6.9, 26, 45, 'hello', 7.5, 'z', 5, 6.9)\n"
          ]
        }
      ]
    }
  ]
}