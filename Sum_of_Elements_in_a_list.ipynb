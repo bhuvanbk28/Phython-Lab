{
  "nbformat": 4,
  "nbformat_minor": 0,
  "metadata": {
    "colab": {
      "provenance": []
    },
    "kernelspec": {
      "name": "python3",
      "display_name": "Python 3"
    },
    "language_info": {
      "name": "python"
    }
  },
  "cells": [
    {
      "cell_type": "code",
      "execution_count": 1,
      "metadata": {
        "colab": {
          "base_uri": "https://localhost:8080/"
        },
        "id": "qZzKun2w56Qq",
        "outputId": "4bd41bee-fdc0-4901-e8e3-b1cd331b11cf"
      },
      "outputs": [
        {
          "output_type": "stream",
          "name": "stdout",
          "text": [
            "Enter a number: 3\n",
            "Enter a number: 10\n",
            "Enter a number: 20\n",
            "Enter a number: 30\n",
            "[10, 20, 30]\n",
            "60\n"
          ]
        }
      ],
      "source": [
        "n=int(input(\"Enter a number: \"))\n",
        "list1=[]\n",
        "for i in range(0,n):\n",
        "  vales=int(input(\"Enter a number: \"))\n",
        "  list1.append(vales)\n",
        "print((list1))\n",
        "print(sum(list1))"
      ]
    }
  ]
}