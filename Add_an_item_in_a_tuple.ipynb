{
  "nbformat": 4,
  "nbformat_minor": 0,
  "metadata": {
    "colab": {
      "provenance": []
    },
    "kernelspec": {
      "name": "python3",
      "display_name": "Python 3"
    },
    "language_info": {
      "name": "python"
    }
  },
  "cells": [
    {
      "source": [
        "original_tuple = ('F', 'a', 'c', 'e', '', 'p', 'r', 'e')\n",
        "string_to_add = input(\"Enter the string to add: \")\n",
        "tuple_list = list(original_tuple)\n",
        "tuple_list.append(string_to_add)\n",
        "updated_tuple = tuple(tuple_list)\n",
        "print(updated_tuple)"
      ],
      "cell_type": "code",
      "metadata": {
        "colab": {
          "base_uri": "https://localhost:8080/"
        },
        "id": "3UebByjrrq99",
        "outputId": "5cca6b86-57f9-4288-f259-16c6222d2d17"
      },
      "execution_count": 8,
      "outputs": [
        {
          "output_type": "stream",
          "name": "stdout",
          "text": [
            "Enter the string to add: p\n",
            "('F', 'a', 'c', 'e', '', 'p', 'r', 'e', 'p')\n"
          ]
        }
      ]
    }
  ]
}