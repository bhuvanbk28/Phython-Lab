{
  "nbformat": 4,
  "nbformat_minor": 0,
  "metadata": {
    "colab": {
      "provenance": []
    },
    "kernelspec": {
      "name": "python3",
      "display_name": "Python 3"
    },
    "language_info": {
      "name": "python"
    }
  },
  "cells": [
    {
      "cell_type": "code",
      "execution_count": 4,
      "metadata": {
        "colab": {
          "base_uri": "https://localhost:8080/"
        },
        "id": "JOS7Y8DCk9EI",
        "outputId": "509721d6-ef23-4907-8405-c00d688136c1"
      },
      "outputs": [
        {
          "output_type": "stream",
          "name": "stdout",
          "text": [
            "Enter the first list element: 4\n",
            "Enter the element: 1\n",
            "Enter the element: 2\n",
            "Enter the element: 3\n",
            "Enter the element: 4\n",
            "List=  [1, 2, 3, 4]\n",
            "Tuple=  (1, 2, 3, 4)\n"
          ]
        }
      ],
      "source": [
        "a=int(input(\"Enter the first list element: \"))\n",
        "b=[]\n",
        "for i in range(a):\n",
        "  b.append(int(input(\"Enter the element: \")))\n",
        "print(\"List= \",b)\n",
        "c=tuple(b)\n",
        "print(\"Tuple= \",c)"
      ]
    }
  ]
}