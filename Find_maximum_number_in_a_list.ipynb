{
  "nbformat": 4,
  "nbformat_minor": 0,
  "metadata": {
    "colab": {
      "provenance": []
    },
    "kernelspec": {
      "name": "python3",
      "display_name": "Python 3"
    },
    "language_info": {
      "name": "python"
    }
  },
  "cells": [
    {
      "cell_type": "code",
      "execution_count": 4,
      "metadata": {
        "colab": {
          "base_uri": "https://localhost:8080/"
        },
        "id": "al8ZtxHS3ib9",
        "outputId": "bb68d268-2ea6-40c7-bb3a-9d076706b512"
      },
      "outputs": [
        {
          "output_type": "stream",
          "name": "stdout",
          "text": [
            "Enter a number: 3\n",
            "Enter a number: 1\n",
            "Enter a number: 50\n",
            "Enter a number: 10000000\n",
            "[1, 50, 10000000]\n",
            "10000000\n"
          ]
        }
      ],
      "source": [
        "n=int(input(\"Enter a number: \"))\n",
        "list1=[]\n",
        "for i in range(0,n):\n",
        "  vales=int(input(\"Enter a number: \"))\n",
        "  list1.append(vales)\n",
        "print((list1))\n",
        "print(max(list1))"
      ]
    }
  ]
}