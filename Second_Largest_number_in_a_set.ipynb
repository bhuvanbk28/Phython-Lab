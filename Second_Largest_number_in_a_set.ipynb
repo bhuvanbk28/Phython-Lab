{
  "nbformat": 4,
  "nbformat_minor": 0,
  "metadata": {
    "colab": {
      "provenance": []
    },
    "kernelspec": {
      "name": "python3",
      "display_name": "Python 3"
    },
    "language_info": {
      "name": "python"
    }
  },
  "cells": [
    {
      "cell_type": "code",
      "execution_count": 5,
      "metadata": {
        "colab": {
          "base_uri": "https://localhost:8080/"
        },
        "id": "6MrG5x7ccYY7",
        "outputId": "b573c8f4-3700-4a30-bfcd-32bbb2c6aff6"
      },
      "outputs": [
        {
          "output_type": "stream",
          "name": "stdout",
          "text": [
            "4\n",
            "23\n",
            "39\n",
            "11\n",
            "56\n",
            "39\n"
          ]
        }
      ],
      "source": [
        "s=int(input())\n",
        "list_1=[]\n",
        "for i in range(s):\n",
        "  list_1.append(int(input()))\n",
        "  list_1.sort()\n",
        "print(list_1[2])"
      ]
    },
    {
      "cell_type": "code",
      "source": [],
      "metadata": {
        "id": "sBW7Y_WJcwHT"
      },
      "execution_count": null,
      "outputs": []
    }
  ]
}