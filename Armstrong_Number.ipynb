{
  "nbformat": 4,
  "nbformat_minor": 0,
  "metadata": {
    "colab": {
      "provenance": []
    },
    "kernelspec": {
      "name": "python3",
      "display_name": "Python 3"
    },
    "language_info": {
      "name": "python"
    }
  },
  "cells": [
    {
      "cell_type": "code",
      "execution_count": null,
      "metadata": {
        "id": "o_Z1VA_lXJcA"
      },
      "outputs": [],
      "source": [
        "n=int(input(\"Enter a number: \"))\n",
        "f=str(n)\n",
        "g=len(f)\n",
        "#print(g)\n",
        "result=0\n",
        "for i in f:\n",
        "  result+=int(i)**g\n",
        "if result==n:\n",
        "  print(n,\"Is An Armstrong Number\")\n",
        "else:\n",
        "  print(n,\"Is Not Armstrong Number\")"
      ]
    }
  ]
}